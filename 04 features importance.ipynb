{
 "cells": [
  {
   "cell_type": "code",
   "execution_count": 1,
   "metadata": {},
   "outputs": [],
   "source": [
    "import numpy as np\n",
    "import pandas as pd\n",
    "import warnings\n",
    "warnings.simplefilter(\"ignore\")"
   ]
  },
  {
   "cell_type": "code",
   "execution_count": 2,
   "metadata": {},
   "outputs": [
    {
     "data": {
      "text/plain": [
       "(2750, 186)"
      ]
     },
     "execution_count": 2,
     "metadata": {},
     "output_type": "execute_result"
    }
   ],
   "source": [
    "dropout = pd.read_csv(\"03 encoding.csv\")\n",
    "dropout.drop(\"Unnamed: 0\", 1, inplace=True)\n",
    "dropout.shape"
   ]
  },
  {
   "cell_type": "code",
   "execution_count": 3,
   "metadata": {},
   "outputs": [
    {
     "data": {
      "text/html": [
       "<div>\n",
       "<style scoped>\n",
       "    .dataframe tbody tr th:only-of-type {\n",
       "        vertical-align: middle;\n",
       "    }\n",
       "\n",
       "    .dataframe tbody tr th {\n",
       "        vertical-align: top;\n",
       "    }\n",
       "\n",
       "    .dataframe thead th {\n",
       "        text-align: right;\n",
       "    }\n",
       "</style>\n",
       "<table border=\"1\" class=\"dataframe\">\n",
       "  <thead>\n",
       "    <tr style=\"text-align: right;\">\n",
       "      <th></th>\n",
       "      <th>disabilita</th>\n",
       "      <th>numero_fratelli_sorelle</th>\n",
       "      <th>numero_nonni_vicinanza_casa</th>\n",
       "      <th>cambio_residenza</th>\n",
       "      <th>presenza_campioni_sportivi_citta</th>\n",
       "      <th>arrampicata</th>\n",
       "      <th>arti_marziali</th>\n",
       "      <th>atletica</th>\n",
       "      <th>balli_da_sala</th>\n",
       "      <th>baseball</th>\n",
       "      <th>...</th>\n",
       "      <th>def_genitore_fastidioso</th>\n",
       "      <th>def_genitore_incoraggiante</th>\n",
       "      <th>def_genitore_indifferente</th>\n",
       "      <th>def_genitore_pesante</th>\n",
       "      <th>def_genitore_si_arrabbia_alle_gare</th>\n",
       "      <th>def_genitore_sostenitore_positivo</th>\n",
       "      <th>def_genitore_tranquillo</th>\n",
       "      <th>def_genitore_troppo_fissato</th>\n",
       "      <th>tipo_sport_significativo_individuale</th>\n",
       "      <th>tipo_sport_significativo_squadra</th>\n",
       "    </tr>\n",
       "  </thead>\n",
       "  <tbody>\n",
       "    <tr>\n",
       "      <th>0</th>\n",
       "      <td>0</td>\n",
       "      <td>2</td>\n",
       "      <td>1</td>\n",
       "      <td>1</td>\n",
       "      <td>0</td>\n",
       "      <td>0</td>\n",
       "      <td>0</td>\n",
       "      <td>0</td>\n",
       "      <td>0</td>\n",
       "      <td>0</td>\n",
       "      <td>...</td>\n",
       "      <td>0</td>\n",
       "      <td>0</td>\n",
       "      <td>1</td>\n",
       "      <td>0</td>\n",
       "      <td>0</td>\n",
       "      <td>0</td>\n",
       "      <td>0</td>\n",
       "      <td>0</td>\n",
       "      <td>1</td>\n",
       "      <td>0</td>\n",
       "    </tr>\n",
       "    <tr>\n",
       "      <th>1</th>\n",
       "      <td>0</td>\n",
       "      <td>1</td>\n",
       "      <td>2</td>\n",
       "      <td>0</td>\n",
       "      <td>0</td>\n",
       "      <td>0</td>\n",
       "      <td>1</td>\n",
       "      <td>1</td>\n",
       "      <td>0</td>\n",
       "      <td>0</td>\n",
       "      <td>...</td>\n",
       "      <td>0</td>\n",
       "      <td>1</td>\n",
       "      <td>0</td>\n",
       "      <td>0</td>\n",
       "      <td>0</td>\n",
       "      <td>0</td>\n",
       "      <td>0</td>\n",
       "      <td>0</td>\n",
       "      <td>1</td>\n",
       "      <td>0</td>\n",
       "    </tr>\n",
       "    <tr>\n",
       "      <th>2</th>\n",
       "      <td>0</td>\n",
       "      <td>1</td>\n",
       "      <td>0</td>\n",
       "      <td>0</td>\n",
       "      <td>0</td>\n",
       "      <td>0</td>\n",
       "      <td>0</td>\n",
       "      <td>1</td>\n",
       "      <td>0</td>\n",
       "      <td>0</td>\n",
       "      <td>...</td>\n",
       "      <td>0</td>\n",
       "      <td>0</td>\n",
       "      <td>0</td>\n",
       "      <td>0</td>\n",
       "      <td>0</td>\n",
       "      <td>0</td>\n",
       "      <td>1</td>\n",
       "      <td>0</td>\n",
       "      <td>0</td>\n",
       "      <td>1</td>\n",
       "    </tr>\n",
       "    <tr>\n",
       "      <th>3</th>\n",
       "      <td>0</td>\n",
       "      <td>1</td>\n",
       "      <td>4</td>\n",
       "      <td>1</td>\n",
       "      <td>1</td>\n",
       "      <td>0</td>\n",
       "      <td>0</td>\n",
       "      <td>0</td>\n",
       "      <td>0</td>\n",
       "      <td>0</td>\n",
       "      <td>...</td>\n",
       "      <td>0</td>\n",
       "      <td>0</td>\n",
       "      <td>0</td>\n",
       "      <td>0</td>\n",
       "      <td>1</td>\n",
       "      <td>0</td>\n",
       "      <td>0</td>\n",
       "      <td>0</td>\n",
       "      <td>0</td>\n",
       "      <td>1</td>\n",
       "    </tr>\n",
       "    <tr>\n",
       "      <th>4</th>\n",
       "      <td>0</td>\n",
       "      <td>1</td>\n",
       "      <td>4</td>\n",
       "      <td>0</td>\n",
       "      <td>0</td>\n",
       "      <td>0</td>\n",
       "      <td>0</td>\n",
       "      <td>0</td>\n",
       "      <td>0</td>\n",
       "      <td>0</td>\n",
       "      <td>...</td>\n",
       "      <td>0</td>\n",
       "      <td>0</td>\n",
       "      <td>0</td>\n",
       "      <td>0</td>\n",
       "      <td>0</td>\n",
       "      <td>0</td>\n",
       "      <td>1</td>\n",
       "      <td>0</td>\n",
       "      <td>0</td>\n",
       "      <td>1</td>\n",
       "    </tr>\n",
       "  </tbody>\n",
       "</table>\n",
       "<p>5 rows × 186 columns</p>\n",
       "</div>"
      ],
      "text/plain": [
       "   disabilita  numero_fratelli_sorelle  numero_nonni_vicinanza_casa  \\\n",
       "0           0                        2                            1   \n",
       "1           0                        1                            2   \n",
       "2           0                        1                            0   \n",
       "3           0                        1                            4   \n",
       "4           0                        1                            4   \n",
       "\n",
       "   cambio_residenza  presenza_campioni_sportivi_citta  arrampicata  \\\n",
       "0                 1                                 0            0   \n",
       "1                 0                                 0            0   \n",
       "2                 0                                 0            0   \n",
       "3                 1                                 1            0   \n",
       "4                 0                                 0            0   \n",
       "\n",
       "   arti_marziali  atletica  balli_da_sala  baseball  ...  \\\n",
       "0              0         0              0         0  ...   \n",
       "1              1         1              0         0  ...   \n",
       "2              0         1              0         0  ...   \n",
       "3              0         0              0         0  ...   \n",
       "4              0         0              0         0  ...   \n",
       "\n",
       "   def_genitore_fastidioso  def_genitore_incoraggiante  \\\n",
       "0                        0                           0   \n",
       "1                        0                           1   \n",
       "2                        0                           0   \n",
       "3                        0                           0   \n",
       "4                        0                           0   \n",
       "\n",
       "   def_genitore_indifferente  def_genitore_pesante  \\\n",
       "0                          1                     0   \n",
       "1                          0                     0   \n",
       "2                          0                     0   \n",
       "3                          0                     0   \n",
       "4                          0                     0   \n",
       "\n",
       "   def_genitore_si_arrabbia_alle_gare  def_genitore_sostenitore_positivo  \\\n",
       "0                                   0                                  0   \n",
       "1                                   0                                  0   \n",
       "2                                   0                                  0   \n",
       "3                                   1                                  0   \n",
       "4                                   0                                  0   \n",
       "\n",
       "   def_genitore_tranquillo  def_genitore_troppo_fissato  \\\n",
       "0                        0                            0   \n",
       "1                        0                            0   \n",
       "2                        1                            0   \n",
       "3                        0                            0   \n",
       "4                        1                            0   \n",
       "\n",
       "   tipo_sport_significativo_individuale  tipo_sport_significativo_squadra  \n",
       "0                                     1                                 0  \n",
       "1                                     1                                 0  \n",
       "2                                     0                                 1  \n",
       "3                                     0                                 1  \n",
       "4                                     0                                 1  \n",
       "\n",
       "[5 rows x 186 columns]"
      ]
     },
     "execution_count": 3,
     "metadata": {},
     "output_type": "execute_result"
    }
   ],
   "source": [
    "dropout.head()"
   ]
  },
  {
   "cell_type": "code",
   "execution_count": 4,
   "metadata": {},
   "outputs": [
    {
     "data": {
      "text/plain": [
       "((2750, 185), (2750,))"
      ]
     },
     "execution_count": 4,
     "metadata": {},
     "output_type": "execute_result"
    }
   ],
   "source": [
    "X = dropout.drop(\"dropout\", 1)\n",
    "y = dropout.dropout\n",
    "X.shape, y.shape"
   ]
  },
  {
   "cell_type": "code",
   "execution_count": 6,
   "metadata": {},
   "outputs": [
    {
     "data": {
      "text/plain": [
       "{'model': DecisionTreeClassifier(class_weight=None, criterion='gini', max_depth=3,\n",
       "                        max_features=None, max_leaf_nodes=None,\n",
       "                        min_impurity_decrease=0.0, min_impurity_split=None,\n",
       "                        min_samples_leaf=0.05, min_samples_split=2,\n",
       "                        min_weight_fraction_leaf=0.0, presort=False,\n",
       "                        random_state=0, splitter='best'),\n",
       " 'params': {'criterion': 'gini', 'max_depth': 3, 'min_samples_leaf': 0.05},\n",
       " 'metrics':    mean_test_accuracy  mean_test_precision  mean_test_recall  mean_test_f1\n",
       " 0            0.680364             0.663654          0.758704      0.706456}"
      ]
     },
     "execution_count": 6,
     "metadata": {},
     "output_type": "execute_result"
    }
   ],
   "source": [
    "from sklearn.tree import DecisionTreeClassifier\n",
    "from sklearn.model_selection import GridSearchCV\n",
    "\n",
    "models = dict()\n",
    "models['DecisionTree'] = dict()\n",
    "params = {'criterion':['gini', 'entropy'], 'max_depth':[3, 4, 8, 12], 'min_samples_leaf':[0.05, 0.1, 0.2]}\n",
    "clf = GridSearchCV(DecisionTreeClassifier(random_state=0), params, cv=10, scoring=['accuracy', 'precision', 'recall', 'f1'],\n",
    "                  refit='recall').fit(X, y)\n",
    "models['DecisionTree']['model'] = clf.best_estimator_\n",
    "models['DecisionTree']['params'] = clf.best_params_\n",
    "models['DecisionTree']['metrics'] = pd.DataFrame(clf.cv_results_).query(\"rank_test_recall == 1\").filter(like=\"mean_test\")\n",
    "models['DecisionTree']"
   ]
  },
  {
   "cell_type": "code",
   "execution_count": 8,
   "metadata": {},
   "outputs": [],
   "source": [
    "from sklearn import tree\n",
    "tree.export_graphviz(models['DecisionTree']['model'], out_file=\"decision_tree_viz.dot\", feature_names=X.columns, class_names=[\"No\", \"Si\"])"
   ]
  },
  {
   "cell_type": "code",
   "execution_count": 10,
   "metadata": {},
   "outputs": [
    {
     "name": "stdout",
     "output_type": "stream",
     "text": [
      "Numero variabili importanti:  5\n"
     ]
    },
    {
     "data": {
      "text/html": [
       "<div>\n",
       "<style scoped>\n",
       "    .dataframe tbody tr th:only-of-type {\n",
       "        vertical-align: middle;\n",
       "    }\n",
       "\n",
       "    .dataframe tbody tr th {\n",
       "        vertical-align: top;\n",
       "    }\n",
       "\n",
       "    .dataframe thead th {\n",
       "        text-align: right;\n",
       "    }\n",
       "</style>\n",
       "<table border=\"1\" class=\"dataframe\">\n",
       "  <thead>\n",
       "    <tr style=\"text-align: right;\">\n",
       "      <th></th>\n",
       "      <th>feature</th>\n",
       "      <th>importance</th>\n",
       "    </tr>\n",
       "  </thead>\n",
       "  <tbody>\n",
       "    <tr>\n",
       "      <th>99</th>\n",
       "      <td>grado_divertimento_allenamento</td>\n",
       "      <td>0.463067</td>\n",
       "    </tr>\n",
       "    <tr>\n",
       "      <th>108</th>\n",
       "      <td>personalita_competitiva</td>\n",
       "      <td>0.177281</td>\n",
       "    </tr>\n",
       "    <tr>\n",
       "      <th>97</th>\n",
       "      <td>disponibilita_accompagnamento_genitori</td>\n",
       "      <td>0.149300</td>\n",
       "    </tr>\n",
       "    <tr>\n",
       "      <th>74</th>\n",
       "      <td>sport_passione</td>\n",
       "      <td>0.125684</td>\n",
       "    </tr>\n",
       "    <tr>\n",
       "      <th>90</th>\n",
       "      <td>grado_conciliare_scuola_sport</td>\n",
       "      <td>0.084667</td>\n",
       "    </tr>\n",
       "  </tbody>\n",
       "</table>\n",
       "</div>"
      ],
      "text/plain": [
       "                                    feature  importance\n",
       "99           grado_divertimento_allenamento    0.463067\n",
       "108                 personalita_competitiva    0.177281\n",
       "97   disponibilita_accompagnamento_genitori    0.149300\n",
       "74                           sport_passione    0.125684\n",
       "90            grado_conciliare_scuola_sport    0.084667"
      ]
     },
     "execution_count": 10,
     "metadata": {},
     "output_type": "execute_result"
    }
   ],
   "source": [
    "importance = pd.DataFrame(models['DecisionTree']['model'].feature_importances_, columns = ['importance'])\n",
    "columns_features = pd.DataFrame(X.columns, columns = ['feature'])\n",
    "feat_importance = pd.concat([columns_features, importance], axis = 1)\n",
    "feat_importance_sorted = feat_importance.sort_values('importance', ascending=False).query(\"importance > 0\")\n",
    "print(\"Numero variabili importanti: \", feat_importance_sorted.shape[0])\n",
    "feat_importance_sorted"
   ]
  },
  {
   "cell_type": "code",
   "execution_count": 12,
   "metadata": {},
   "outputs": [
    {
     "data": {
      "text/plain": [
       "<matplotlib.axes._subplots.AxesSubplot at 0x1c138aa5a20>"
      ]
     },
     "execution_count": 12,
     "metadata": {},
     "output_type": "execute_result"
    },
    {
     "data": {
      "image/png": "[encoded data removed]",
      "text/plain": [
       "<Figure size 576x360 with 1 Axes>"
      ]
     },
     "metadata": {
      "needs_background": "light"
     },
     "output_type": "display_data"
    }
   ],
   "source": [
    "feat_importance_sorted.plot.barh(x=\"feature\", y=\"importance\", figsize=(8, 5))"
   ]
  },
  {
   "cell_type": "code",
   "execution_count": 13,
   "metadata": {},
   "outputs": [
    {
     "data": {
      "text/plain": [
       "{'model': RandomForestClassifier(bootstrap=False, class_weight=None, criterion='gini',\n",
       "                        max_depth=3, max_features='auto', max_leaf_nodes=None,\n",
       "                        min_impurity_decrease=0.0, min_impurity_split=None,\n",
       "                        min_samples_leaf=0.05, min_samples_split=2,\n",
       "                        min_weight_fraction_leaf=0.0, n_estimators=500,\n",
       "                        n_jobs=None, oob_score=False, random_state=0, verbose=0,\n",
       "                        warm_start=False),\n",
       " 'params': {'bootstrap': False,\n",
       "  'criterion': 'gini',\n",
       "  'max_depth': 3,\n",
       "  'min_samples_leaf': 0.05,\n",
       "  'n_estimators': 500},\n",
       " 'metrics':    mean_test_accuracy  mean_test_precision  mean_test_recall  mean_test_f1\n",
       " 5            0.682182             0.671225          0.743015      0.704351}"
      ]
     },
     "execution_count": 13,
     "metadata": {},
     "output_type": "execute_result"
    }
   ],
   "source": [
    "from sklearn.ensemble import RandomForestClassifier\n",
    "\n",
    "models['RandomForest'] = dict()\n",
    "params = {'criterion':['gini'], 'max_depth':[3], 'min_samples_leaf':[0.05], 'n_estimators':[100, 200, 500], \n",
    "         'bootstrap':[True, False]}\n",
    "clf = GridSearchCV(RandomForestClassifier(random_state=0), params, cv=10, scoring=['accuracy', 'precision', 'recall', 'f1'],\n",
    "                  refit='recall').fit(X, y)\n",
    "models['RandomForest']['model'] = clf.best_estimator_\n",
    "models['RandomForest']['params'] = clf.best_params_\n",
    "models['RandomForest']['metrics'] = pd.DataFrame(clf.cv_results_).query(\"rank_test_recall == 1\").filter(like=\"mean_test\")\n",
    "models['RandomForest']"
   ]
  },
  {
   "cell_type": "code",
   "execution_count": 16,
   "metadata": {},
   "outputs": [
    {
     "name": "stdout",
     "output_type": "stream",
     "text": [
      "Numero variabili importanti:  21\n",
      "                                  feature  importance\n",
      "99         grado_divertimento_allenamento    0.153467\n",
      "108               personalita_competitiva    0.111062\n",
      "86                               agonismo    0.088341\n",
      "74                         sport_passione    0.083153\n",
      "90          grado_conciliare_scuola_sport    0.052057\n",
      "114                         sesso_maschio    0.051652\n",
      "11                                 calcio    0.048884\n",
      "113                         sesso_femmina    0.042952\n",
      "109                personalita_tranquilla    0.031205\n",
      "40                           divertimento    0.029188\n",
      "55                               esigenza    0.027264\n",
      "72                     sport_divertimento    0.024484\n",
      "111                        maschio_calcio    0.021318\n",
      "101                  personalita_polemica    0.019241\n",
      "93              sport_agonistico_genitori    0.017211\n",
      "184      tipo_sport_significativo_squadra    0.016239\n",
      "87                  frequenza_settimanale    0.015837\n",
      "183  tipo_sport_significativo_individuale    0.014784\n",
      "75              sport_bisogno_corpo_mente    0.014495\n",
      "104                    personalita_aperta    0.011559\n",
      "112               femmina_pallavolo_nuoto    0.011520\n",
      "\n",
      "Somma valori di importanza:  0.8859129029470975\n"
     ]
    }
   ],
   "source": [
    "importance = pd.DataFrame(models['RandomForest']['model'].feature_importances_, columns = ['importance'])\n",
    "columns_features = pd.DataFrame(X.columns, columns = ['feature'])\n",
    "feat_importance = pd.concat([columns_features, importance], axis = 1)\n",
    "feat_importance_sorted = feat_importance.sort_values('importance', ascending=False).query(\"importance > 0.01\")\n",
    "print(\"Numero variabili importanti: \", feat_importance_sorted.shape[0])\n",
    "print(feat_importance_sorted)\n",
    "print(\"\\nSomma valori di importanza: \", sum(feat_importance_sorted.importance))"
   ]
  },
  {
   "cell_type": "code",
   "execution_count": 17,
   "metadata": {},
   "outputs": [
    {
     "data": {
      "text/plain": [
       "<matplotlib.axes._subplots.AxesSubplot at 0x1c1391aaf28>"
      ]
     },
     "execution_count": 17,
     "metadata": {},
     "output_type": "execute_result"
    },
    {
     "data": {
      "image/png": "[encoded data removed]",
      "text/plain": [
       "<Figure size 576x360 with 1 Axes>"
      ]
     },
     "metadata": {
      "needs_background": "light"
     },
     "output_type": "display_data"
    }
   ],
   "source": [
    "feat_importance_sorted.plot.barh(x=\"feature\", y=\"importance\", figsize=(8, 5))"
   ]
  },
  {
   "cell_type": "code",
   "execution_count": 18,
   "metadata": {},
   "outputs": [
    {
     "data": {
      "text/plain": [
       "(2750, 22)"
      ]
     },
     "execution_count": 18,
     "metadata": {},
     "output_type": "execute_result"
    }
   ],
   "source": [
    "var_imp = feat_importance_sorted.index\n",
    "important_features = X.iloc[:, var_imp]\n",
    "important_features['dropout'] = y\n",
    "important_features.to_csv(\"04 important_features.csv\")\n",
    "important_features.shape"
   ]
  }
 ],
 "metadata": {
  "kernelspec": {
   "display_name": "Python 3",
   "language": "python",
   "name": "python3"
  },
  "language_info": {
   "codemirror_mode": {
    "name": "ipython",
    "version": 3
   },
   "file_extension": ".py",
   "mimetype": "text/x-python",
   "name": "python",
   "nbconvert_exporter": "python",
   "pygments_lexer": "ipython3",
   "version": "3.7.3"
  }
 },
 "nbformat": 4,
 "nbformat_minor": 4
}
