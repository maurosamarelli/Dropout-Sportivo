{
 "cells": [
  {
   "cell_type": "code",
   "execution_count": 1,
   "metadata": {},
   "outputs": [],
   "source": [
    "import numpy as np\n",
    "import pandas as pd"
   ]
  },
  {
   "cell_type": "code",
   "execution_count": 2,
   "metadata": {},
   "outputs": [
    {
     "data": {
      "text/plain": [
       "(2750, 187)"
      ]
     },
     "execution_count": 2,
     "metadata": {},
     "output_type": "execute_result"
    }
   ],
   "source": [
    "dropout_final = pd.read_csv(\"01 preprocessing.csv\", encoding=\"ISO-8859-1\")\n",
    "dropout_final.drop('Unnamed: 0', 1, inplace=True)\n",
    "dropout_final.shape"
   ]
  },
  {
   "cell_type": "code",
   "execution_count": 3,
   "metadata": {},
   "outputs": [
    {
     "data": {
      "text/html": [
       "<div>\n",
       "<style scoped>\n",
       "    .dataframe tbody tr th:only-of-type {\n",
       "        vertical-align: middle;\n",
       "    }\n",
       "\n",
       "    .dataframe tbody tr th {\n",
       "        vertical-align: top;\n",
       "    }\n",
       "\n",
       "    .dataframe thead th {\n",
       "        text-align: right;\n",
       "    }\n",
       "</style>\n",
       "<table border=\"1\" class=\"dataframe\">\n",
       "  <thead>\n",
       "    <tr style=\"text-align: right;\">\n",
       "      <th></th>\n",
       "      <th>respondent_id</th>\n",
       "      <th>sesso</th>\n",
       "      <th>scuola_superiore</th>\n",
       "      <th>disabilita</th>\n",
       "      <th>titolo_studio_madre</th>\n",
       "      <th>titolo_studio_padre</th>\n",
       "      <th>numero_fratelli_sorelle</th>\n",
       "      <th>numero_nonni_vicinanza_casa</th>\n",
       "      <th>riferimento_dopo_scuola</th>\n",
       "      <th>cambio_residenza</th>\n",
       "      <th>...</th>\n",
       "      <th>personalita_riservata</th>\n",
       "      <th>personalita_comprensiva</th>\n",
       "      <th>personalita_disorganizzata</th>\n",
       "      <th>personalita_competitiva</th>\n",
       "      <th>personalita_tranquilla</th>\n",
       "      <th>personalita_abitudinaria</th>\n",
       "      <th>sport_piu_significativo</th>\n",
       "      <th>motivazione_principale_per_continuare</th>\n",
       "      <th>motivazione_principale_per_abbandonare</th>\n",
       "      <th>tipo_sport_significativo</th>\n",
       "    </tr>\n",
       "  </thead>\n",
       "  <tbody>\n",
       "    <tr>\n",
       "      <th>0</th>\n",
       "      <td>6630885156</td>\n",
       "      <td>Maschio</td>\n",
       "      <td>Liceo</td>\n",
       "      <td>No</td>\n",
       "      <td>Diploma di scuola media superiore (Liceo)</td>\n",
       "      <td>Diploma di scuola media superiore (Liceo)</td>\n",
       "      <td>2</td>\n",
       "      <td>1</td>\n",
       "      <td>Nessuno</td>\n",
       "      <td>Si</td>\n",
       "      <td>...</td>\n",
       "      <td>7.0</td>\n",
       "      <td>4.0</td>\n",
       "      <td>4.0</td>\n",
       "      <td>5.0</td>\n",
       "      <td>5.0</td>\n",
       "      <td>6.0</td>\n",
       "      <td>Tennis</td>\n",
       "      <td>NaN</td>\n",
       "      <td>NaN</td>\n",
       "      <td>individuale</td>\n",
       "    </tr>\n",
       "    <tr>\n",
       "      <th>1</th>\n",
       "      <td>6630885459</td>\n",
       "      <td>Femmina</td>\n",
       "      <td>Liceo</td>\n",
       "      <td>No</td>\n",
       "      <td>Diploma di scuola media superiore (Liceo)</td>\n",
       "      <td>Licenza Media Inferiore</td>\n",
       "      <td>1</td>\n",
       "      <td>2</td>\n",
       "      <td>PapÃ</td>\n",
       "      <td>No</td>\n",
       "      <td>...</td>\n",
       "      <td>4.0</td>\n",
       "      <td>5.0</td>\n",
       "      <td>2.0</td>\n",
       "      <td>5.0</td>\n",
       "      <td>7.0</td>\n",
       "      <td>2.0</td>\n",
       "      <td>Arti marziali</td>\n",
       "      <td>NaN</td>\n",
       "      <td>NaN</td>\n",
       "      <td>individuale</td>\n",
       "    </tr>\n",
       "    <tr>\n",
       "      <th>2</th>\n",
       "      <td>6630885495</td>\n",
       "      <td>Maschio</td>\n",
       "      <td>Liceo</td>\n",
       "      <td>No</td>\n",
       "      <td>Licenza Media Inferiore</td>\n",
       "      <td>Licenza Media Inferiore</td>\n",
       "      <td>1</td>\n",
       "      <td>0</td>\n",
       "      <td>Mamma</td>\n",
       "      <td>No</td>\n",
       "      <td>...</td>\n",
       "      <td>4.0</td>\n",
       "      <td>5.0</td>\n",
       "      <td>2.0</td>\n",
       "      <td>6.0</td>\n",
       "      <td>4.0</td>\n",
       "      <td>5.0</td>\n",
       "      <td>Calcio</td>\n",
       "      <td>NaN</td>\n",
       "      <td>NaN</td>\n",
       "      <td>squadra</td>\n",
       "    </tr>\n",
       "    <tr>\n",
       "      <th>3</th>\n",
       "      <td>6630885564</td>\n",
       "      <td>Maschio</td>\n",
       "      <td>Liceo</td>\n",
       "      <td>No</td>\n",
       "      <td>Diploma di scuola media superiore (Istituto Te...</td>\n",
       "      <td>Licenza Media Inferiore</td>\n",
       "      <td>1</td>\n",
       "      <td>4</td>\n",
       "      <td>Nonni</td>\n",
       "      <td>Si</td>\n",
       "      <td>...</td>\n",
       "      <td>2.0</td>\n",
       "      <td>3.0</td>\n",
       "      <td>1.0</td>\n",
       "      <td>7.0</td>\n",
       "      <td>1.0</td>\n",
       "      <td>1.0</td>\n",
       "      <td>Altro</td>\n",
       "      <td>passione</td>\n",
       "      <td>periodo_critico_personale</td>\n",
       "      <td>NaN</td>\n",
       "    </tr>\n",
       "    <tr>\n",
       "      <th>4</th>\n",
       "      <td>6630885783</td>\n",
       "      <td>Maschio</td>\n",
       "      <td>Liceo</td>\n",
       "      <td>No</td>\n",
       "      <td>Diploma di scuola media superiore (Istituto Te...</td>\n",
       "      <td>Licenza Media Inferiore</td>\n",
       "      <td>1</td>\n",
       "      <td>4</td>\n",
       "      <td>Nonni</td>\n",
       "      <td>No</td>\n",
       "      <td>...</td>\n",
       "      <td>2.0</td>\n",
       "      <td>5.0</td>\n",
       "      <td>5.0</td>\n",
       "      <td>3.0</td>\n",
       "      <td>6.0</td>\n",
       "      <td>5.0</td>\n",
       "      <td>Calcio</td>\n",
       "      <td>NaN</td>\n",
       "      <td>NaN</td>\n",
       "      <td>squadra</td>\n",
       "    </tr>\n",
       "  </tbody>\n",
       "</table>\n",
       "<p>5 rows × 187 columns</p>\n",
       "</div>"
      ],
      "text/plain": [
       "   respondent_id    sesso scuola_superiore disabilita  \\\n",
       "0     6630885156  Maschio            Liceo         No   \n",
       "1     6630885459  Femmina            Liceo         No   \n",
       "2     6630885495  Maschio            Liceo         No   \n",
       "3     6630885564  Maschio            Liceo         No   \n",
       "4     6630885783  Maschio            Liceo         No   \n",
       "\n",
       "                                 titolo_studio_madre  \\\n",
       "0          Diploma di scuola media superiore (Liceo)   \n",
       "1          Diploma di scuola media superiore (Liceo)   \n",
       "2                            Licenza Media Inferiore   \n",
       "3  Diploma di scuola media superiore (Istituto Te...   \n",
       "4  Diploma di scuola media superiore (Istituto Te...   \n",
       "\n",
       "                         titolo_studio_padre  numero_fratelli_sorelle  \\\n",
       "0  Diploma di scuola media superiore (Liceo)                        2   \n",
       "1                    Licenza Media Inferiore                        1   \n",
       "2                    Licenza Media Inferiore                        1   \n",
       "3                    Licenza Media Inferiore                        1   \n",
       "4                    Licenza Media Inferiore                        1   \n",
       "\n",
       "   numero_nonni_vicinanza_casa riferimento_dopo_scuola cambio_residenza  ...  \\\n",
       "0                            1                 Nessuno               Si  ...   \n",
       "1                            2                   PapÃ                No  ...   \n",
       "2                            0                   Mamma               No  ...   \n",
       "3                            4                   Nonni               Si  ...   \n",
       "4                            4                   Nonni               No  ...   \n",
       "\n",
       "  personalita_riservata personalita_comprensiva personalita_disorganizzata  \\\n",
       "0                   7.0                     4.0                        4.0   \n",
       "1                   4.0                     5.0                        2.0   \n",
       "2                   4.0                     5.0                        2.0   \n",
       "3                   2.0                     3.0                        1.0   \n",
       "4                   2.0                     5.0                        5.0   \n",
       "\n",
       "  personalita_competitiva personalita_tranquilla personalita_abitudinaria  \\\n",
       "0                     5.0                    5.0                      6.0   \n",
       "1                     5.0                    7.0                      2.0   \n",
       "2                     6.0                    4.0                      5.0   \n",
       "3                     7.0                    1.0                      1.0   \n",
       "4                     3.0                    6.0                      5.0   \n",
       "\n",
       "  sport_piu_significativo motivazione_principale_per_continuare  \\\n",
       "0                  Tennis                                   NaN   \n",
       "1           Arti marziali                                   NaN   \n",
       "2                  Calcio                                   NaN   \n",
       "3                   Altro                              passione   \n",
       "4                  Calcio                                   NaN   \n",
       "\n",
       "  motivazione_principale_per_abbandonare tipo_sport_significativo  \n",
       "0                                    NaN              individuale  \n",
       "1                                    NaN              individuale  \n",
       "2                                    NaN                  squadra  \n",
       "3              periodo_critico_personale                      NaN  \n",
       "4                                    NaN                  squadra  \n",
       "\n",
       "[5 rows x 187 columns]"
      ]
     },
     "execution_count": 3,
     "metadata": {},
     "output_type": "execute_result"
    }
   ],
   "source": [
    "dropout_final.head()"
   ]
  },
  {
   "cell_type": "code",
   "execution_count": 4,
   "metadata": {},
   "outputs": [
    {
     "name": "stdout",
     "output_type": "stream",
     "text": [
      "Missing values \"sesso\":  13\n",
      "{'Basket': 'Maschio', 'Nuoto': 'Femmina', 'Atletica': 'Femmina', 'Pallavolo': 'Femmina', 'Ginnastica Artistica': 'Femmina', 'Calcio': 'Maschio', 'Equitazione': 'Femmina', 'Ginnastica Ritmica': 'Femmina', 'Scherma': 'Femmina'}\n",
      "Missing values \"sesso\":  0\n"
     ]
    }
   ],
   "source": [
    "print('Missing values \"sesso\": ', dropout_final.loc[dropout_final['sesso'].isnull(), :].shape[0])\n",
    "rep_nan = {}\n",
    "for sport in dropout_final.loc[dropout_final['sesso'].isnull(), :].sport_piu_significativo:\n",
    "    rep_nan[sport] = dropout_final.loc[dropout_final.sport_piu_significativo == sport, :].sesso.describe().top\n",
    "print(rep_nan)\n",
    "dropout_final.loc[dropout_final['sesso'].isnull(), 'sesso'] = dropout_final[dropout_final['sesso'].isnull()]['sport_piu_significativo'].replace(rep_nan)\n",
    "print('Missing values \"sesso\": ', dropout_final.loc[dropout_final['sesso'].isnull(), :].shape[0])"
   ]
  },
  {
   "cell_type": "code",
   "execution_count": 5,
   "metadata": {},
   "outputs": [
    {
     "name": "stdout",
     "output_type": "stream",
     "text": [
      "Missing values \"scuola_superiore\":  6\n",
      "{'Femmina': 'Liceo', 'Maschio': 'Liceo'}\n",
      "Missing values \"scuola_superiore\":  0\n"
     ]
    }
   ],
   "source": [
    "print('Missing values \"scuola_superiore\": ', dropout_final.loc[dropout_final['scuola_superiore'].isnull(), :].shape[0])\n",
    "rep_nan = {}\n",
    "for sesso in dropout_final.loc[dropout_final['scuola_superiore'].isnull(), :].sesso:\n",
    "    rep_nan[sesso] = dropout_final.loc[dropout_final.sesso == sesso, :].scuola_superiore.describe().top\n",
    "print(rep_nan)\n",
    "dropout_final.loc[dropout_final['scuola_superiore'].isnull(), 'scuola_superiore'] = dropout_final[dropout_final['scuola_superiore'].isnull()]['sesso'].replace(rep_nan)\n",
    "print('Missing values \"scuola_superiore\": ', dropout_final.loc[dropout_final['scuola_superiore'].isnull(), :].shape[0])"
   ]
  },
  {
   "cell_type": "code",
   "execution_count": 6,
   "metadata": {},
   "outputs": [
    {
     "name": "stdout",
     "output_type": "stream",
     "text": [
      "Missing values \"provenienza\":  6\n",
      "Sud\n",
      "Missing values \"provenienza\":  0\n"
     ]
    }
   ],
   "source": [
    "print('Missing values \"provenienza\": ', dropout_final.loc[dropout_final['provenienza'].isnull(), :].shape[0])\n",
    "print(dropout_final.provenienza.describe().top)\n",
    "dropout_final['provenienza'].fillna(dropout_final.provenienza.describe().top, inplace=True)\n",
    "print('Missing values \"provenienza\": ', dropout_final.loc[dropout_final['provenienza'].isnull(), :].shape[0])"
   ]
  },
  {
   "cell_type": "code",
   "execution_count": 7,
   "metadata": {},
   "outputs": [
    {
     "name": "stdout",
     "output_type": "stream",
     "text": [
      "Missing values \"nazionalita\":  8\n",
      "Italiana\n",
      "Missing values \"nazionalita\":  0\n"
     ]
    }
   ],
   "source": [
    "print('Missing values \"nazionalita\": ', dropout_final.loc[dropout_final['nazionalita'].isnull(), :].shape[0])\n",
    "print(dropout_final.nazionalita.describe().top)\n",
    "dropout_final['nazionalita'].fillna(dropout_final.nazionalita.describe().top, inplace=True)\n",
    "print('Missing values \"nazionalita\": ', dropout_final.loc[dropout_final['nazionalita'].isnull(), :].shape[0])"
   ]
  },
  {
   "cell_type": "code",
   "execution_count": 8,
   "metadata": {},
   "outputs": [
    {
     "name": "stdout",
     "output_type": "stream",
     "text": [
      "Missing values \"agonismo\":  118\n",
      "No\n",
      "Missing values \"agonismo\":  0\n"
     ]
    }
   ],
   "source": [
    "print('Missing values \"agonismo\": ', dropout_final.loc[dropout_final['agonismo'].isnull(), :].shape[0])\n",
    "sost = \"No\"\n",
    "print(sost)\n",
    "dropout_final['agonismo'].fillna(sost, inplace=True)\n",
    "print('Missing values \"agonismo\": ', dropout_final.loc[dropout_final['agonismo'].isnull(), :].shape[0])"
   ]
  },
  {
   "cell_type": "code",
   "execution_count": 9,
   "metadata": {},
   "outputs": [
    {
     "name": "stdout",
     "output_type": "stream",
     "text": [
      "Missing values \"grado_divertimento_allenamento\":  422\n",
      "Abbastanza\n",
      "Missing values \"grado_divertimento_allenamento\":  0\n"
     ]
    }
   ],
   "source": [
    "print('Missing values \"grado_divertimento_allenamento\": ', dropout_final.loc[dropout_final['grado_divertimento_allenamento'].isnull(), :].shape[0])\n",
    "dropout_final.groupby('partecipazione_gare')['grado_divertimento_allenamento'].value_counts()\n",
    "sost = \"Abbastanza\"\n",
    "print(sost)\n",
    "dropout_final['grado_divertimento_allenamento'].fillna(sost, inplace=True)\n",
    "print('Missing values \"grado_divertimento_allenamento\": ', dropout_final.loc[dropout_final['grado_divertimento_allenamento'].isnull(), :].shape[0])"
   ]
  },
  {
   "cell_type": "code",
   "execution_count": 10,
   "metadata": {},
   "outputs": [
    {
     "name": "stdout",
     "output_type": "stream",
     "text": [
      "Missing values \"frequenza_settimanale\":  246\n",
      "{'Abbastanza': 3.0, 'Molto': 3.0, 'Neutrale': 3.0, 'Per niente': 3.0, 'Poco': 3.0}\n",
      "Missing values \"frequenza_settimanale\":  0\n"
     ]
    }
   ],
   "source": [
    "print('Missing values \"frequenza_settimanale\": ', dropout_final.loc[dropout_final['frequenza_settimanale'].isnull(), :].shape[0])\n",
    "dropout_final.groupby('grado_divertimento_allenamento')['frequenza_settimanale'].mean()\n",
    "rep_nan = {'Abbastanza':3.0, 'Molto':3.0, 'Neutrale':3.0, 'Per niente':3.0, 'Poco':3.0}\n",
    "print(rep_nan)\n",
    "dropout_final.loc[dropout_final['frequenza_settimanale'].isnull(), 'frequenza_settimanale'] = dropout_final[dropout_final['frequenza_settimanale'].isnull()]['grado_divertimento_allenamento'].replace(rep_nan)\n",
    "print('Missing values \"frequenza_settimanale\": ', dropout_final.loc[dropout_final['frequenza_settimanale'].isnull(), :].shape[0])"
   ]
  },
  {
   "cell_type": "code",
   "execution_count": 11,
   "metadata": {},
   "outputs": [
    {
     "name": "stdout",
     "output_type": "stream",
     "text": [
      "Missing values \"ore_studio_giornaliere\":  255\n",
      "2.0\n",
      "Missing values \"ore_studio_giornaliere\":  0\n"
     ]
    }
   ],
   "source": [
    "print('Missing values \"ore_studio_giornaliere\": ', dropout_final.loc[dropout_final['ore_studio_giornaliere'].isnull(), :].shape[0])\n",
    "dropout_final.groupby('scuola_superiore')['ore_studio_giornaliere'].mean()\n",
    "sost = 2.0\n",
    "print(sost)\n",
    "dropout_final['ore_studio_giornaliere'].fillna(sost, inplace=True)\n",
    "print('Missing values \"ore_studio_giornaliere\": ', dropout_final.loc[dropout_final['ore_studio_giornaliere'].isnull(), :].shape[0])"
   ]
  },
  {
   "cell_type": "code",
   "execution_count": 12,
   "metadata": {},
   "outputs": [
    {
     "name": "stdout",
     "output_type": "stream",
     "text": [
      "Missing values \"ore_attivita_extra\":  191\n",
      "{0.0: 5.0, 1.0: 2.0, 2.0: 2.0, 4.0: 3.0, 5.0: 5.0}\n",
      "Missing values \"ore_attivita_extra\":  0\n"
     ]
    }
   ],
   "source": [
    "print('Missing values \"ore_attivita_extra\": ', dropout_final.loc[dropout_final['ore_attivita_extra'].isnull(), :].shape[0])\n",
    "dropout_final.groupby('ore_studio_giornaliere')['ore_attivita_extra'].value_counts()\n",
    "rep_nan = {0.0:5.0, 1.0:2.0, 2.0:2.0, 4.0:3.0, 5.0:5.0}\n",
    "print(rep_nan)\n",
    "dropout_final.loc[dropout_final['ore_attivita_extra'].isnull(), 'ore_attivita_extra'] = dropout_final[dropout_final['ore_attivita_extra'].isnull()]['ore_studio_giornaliere'].replace(rep_nan)\n",
    "print('Missing values \"ore_attivita_extra\": ', dropout_final.loc[dropout_final['ore_attivita_extra'].isnull(), :].shape[0])"
   ]
  },
  {
   "cell_type": "code",
   "execution_count": 13,
   "metadata": {},
   "outputs": [
    {
     "name": "stdout",
     "output_type": "stream",
     "text": [
      "Missing values \"grado_conciliare_scuola_sport\":  233\n",
      "{'Altro (specificare)': 4.0, 'Istituto Professionale': 3.0, 'Istituto Tecnico': 3.0, 'Liceo': 3.0}\n",
      "Missing values \"grado_conciliare_scuola_sport\":  0\n"
     ]
    }
   ],
   "source": [
    "print('Missing values \"grado_conciliare_scuola_sport\": ', dropout_final.loc[dropout_final['grado_conciliare_scuola_sport'].isnull(), :].shape[0])\n",
    "dropout_final.groupby('scuola_superiore')['grado_conciliare_scuola_sport'].mean()\n",
    "rep_nan = {\"Altro (specificare)\":4.0, \"Istituto Professionale\":3.0, \"Istituto Tecnico\":3.0, \"Liceo\":3.0}\n",
    "print(rep_nan)\n",
    "dropout_final.loc[dropout_final['grado_conciliare_scuola_sport'].isnull(), 'grado_conciliare_scuola_sport'] = dropout_final[dropout_final['grado_conciliare_scuola_sport'].isnull()]['scuola_superiore'].replace(rep_nan)\n",
    "print('Missing values \"grado_conciliare_scuola_sport\": ', dropout_final.loc[dropout_final['grado_conciliare_scuola_sport'].isnull(), :].shape[0])"
   ]
  },
  {
   "cell_type": "code",
   "execution_count": 14,
   "metadata": {},
   "outputs": [
    {
     "name": "stdout",
     "output_type": "stream",
     "text": [
      "Missing values \"lavoro_madre\":  390\n",
      "{'Altro (specificare)': 'Altro', 'Diploma di scuola media superiore (Istituto Tecnico o Professionale)': 'Impiegata', 'Diploma di scuola media superiore (Liceo)': 'Impiegata', 'Laurea': 'Docente', 'Licenza Media Inferiore': 'Casalinga', 'Licenza Elementare': 'Casalinga', 'Non lo so': 'Casalinga'}\n",
      "Missing values \"lavoro_madre\":  0\n"
     ]
    }
   ],
   "source": [
    "print('Missing values \"lavoro_madre\": ', dropout_final.loc[dropout_final['lavoro_madre'].isnull(), :].shape[0])\n",
    "dropout_final.groupby('titolo_studio_madre')['lavoro_madre'].value_counts()\n",
    "rep_nan = {\"Altro (specificare)\":\"Altro\", \"Diploma di scuola media superiore (Istituto Tecnico o Professionale)\":\"Impiegata\", \n",
    "           \"Diploma di scuola media superiore (Liceo)\":\"Impiegata\", \"Laurea\":\"Docente\", \"Licenza Media Inferiore\":\"Casalinga\",\n",
    "           \"Licenza Elementare\":\"Casalinga\", \"Non lo so\":\"Casalinga\"}\n",
    "print(rep_nan)\n",
    "dropout_final.loc[dropout_final['lavoro_madre'].isnull(), 'lavoro_madre'] = dropout_final[dropout_final['lavoro_madre'].isnull()]['titolo_studio_madre'].replace(rep_nan)\n",
    "print('Missing values \"lavoro_madre\": ', dropout_final.loc[dropout_final['lavoro_madre'].isnull(), :].shape[0])"
   ]
  },
  {
   "cell_type": "code",
   "execution_count": 15,
   "metadata": {},
   "outputs": [
    {
     "name": "stdout",
     "output_type": "stream",
     "text": [
      "Missing values \"lavoro_padre\":  393\n",
      "{'Altro (specificare)': 'Operaio', 'Diploma di scuola media superiore (Istituto Tecnico o Professionale)': 'Impiegato', 'Diploma di scuola media superiore (Liceo)': 'Impiegato', 'Laurea': 'Libero professionista', 'Licenza Media Inferiore': 'Operaio', 'Licenza Elementare': 'Operaio', 'Non lo so': 'Operaio'}\n",
      "Missing values \"lavoro_padre\":  0\n"
     ]
    }
   ],
   "source": [
    "print('Missing values \"lavoro_padre\": ', dropout_final.loc[dropout_final['lavoro_padre'].isnull(), :].shape[0])\n",
    "dropout_final.groupby('titolo_studio_padre')['lavoro_padre'].value_counts()\n",
    "rep_nan = {\"Altro (specificare)\":\"Operaio\", \"Diploma di scuola media superiore (Istituto Tecnico o Professionale)\":\"Impiegato\", \n",
    "           \"Diploma di scuola media superiore (Liceo)\":\"Impiegato\", \"Laurea\":\"Libero professionista\", \"Licenza Media Inferiore\":\"Operaio\",\n",
    "           \"Licenza Elementare\":\"Operaio\", \"Non lo so\":\"Operaio\"}\n",
    "print(rep_nan)\n",
    "dropout_final.loc[dropout_final['lavoro_padre'].isnull(), 'lavoro_padre'] = dropout_final[dropout_final['lavoro_padre'].isnull()]['titolo_studio_padre'].replace(rep_nan)\n",
    "print('Missing values \"lavoro_padre\": ', dropout_final.loc[dropout_final['lavoro_padre'].isnull(), :].shape[0])"
   ]
  },
  {
   "cell_type": "code",
   "execution_count": 16,
   "metadata": {},
   "outputs": [
    {
     "name": "stdout",
     "output_type": "stream",
     "text": [
      "Missing values \"impegno_lavoro_madre\":  445\n",
      "{'Altro': 'Full time', 'Casalinga': 'Autonomo', 'Commerciante/Imprenditrice/Artigiana': 'Autonomo', 'Docente': 'Full time', 'Impiegata': 'Full time', 'Libera professionista': 'Autonomo', 'Operaia': 'Full time'}\n",
      "Missing values \"impegno_lavoro_madre\":  0\n"
     ]
    }
   ],
   "source": [
    "print('Missing values \"impegno_lavoro_madre\": ', dropout_final.loc[dropout_final['impegno_lavoro_madre'].isnull(), :].shape[0])\n",
    "dropout_final.groupby('lavoro_madre')['impegno_lavoro_madre'].value_counts()\n",
    "rep_nan = {\"Altro\":\"Full time\", \"Casalinga\":\"Autonomo\", \"Commerciante/Imprenditrice/Artigiana\":\"Autonomo\", \"Docente\":\"Full time\", \n",
    "           \"Impiegata\":\"Full time\", \"Libera professionista\":\"Autonomo\", \"Operaia\":\"Full time\"}\n",
    "print(rep_nan)\n",
    "dropout_final.loc[dropout_final['impegno_lavoro_madre'].isnull(), 'impegno_lavoro_madre'] = dropout_final[dropout_final['impegno_lavoro_madre'].isnull()]['lavoro_madre'].replace(rep_nan)\n",
    "print('Missing values \"impegno_lavoro_madre\": ', dropout_final.loc[dropout_final['impegno_lavoro_madre'].isnull(), :].shape[0])"
   ]
  },
  {
   "cell_type": "code",
   "execution_count": 17,
   "metadata": {},
   "outputs": [
    {
     "name": "stdout",
     "output_type": "stream",
     "text": [
      "Missing values \"impegno_lavoro_padre\":  398\n",
      "{'Altro': 'Full time', 'Casalingo': 'Autonomo', 'Commerciante/Imprenditore/Artigiano': 'Full time', 'Docente': 'Full time', 'Impiegato': 'Full time', 'Libero professionista': 'Full time', 'Operaio': 'Full time'}\n",
      "Missing values \"impegno_lavoro_padre\":  0\n"
     ]
    }
   ],
   "source": [
    "print('Missing values \"impegno_lavoro_padre\": ', dropout_final.loc[dropout_final['impegno_lavoro_padre'].isnull(), :].shape[0])\n",
    "dropout_final.groupby('lavoro_padre')['impegno_lavoro_padre'].value_counts()\n",
    "rep_nan = {\"Altro\":\"Full time\", \"Casalingo\":\"Autonomo\", \"Commerciante/Imprenditore/Artigiano\":\"Full time\", \"Docente\":\"Full time\", \n",
    "           \"Impiegato\":\"Full time\", \"Libero professionista\":\"Full time\", \"Operaio\":\"Full time\"}\n",
    "print(rep_nan)\n",
    "dropout_final.loc[dropout_final['impegno_lavoro_padre'].isnull(), 'impegno_lavoro_padre'] = dropout_final[dropout_final['impegno_lavoro_padre'].isnull()]['lavoro_padre'].replace(rep_nan)\n",
    "print('Missing values \"impegno_lavoro_padre\": ', dropout_final.loc[dropout_final['impegno_lavoro_padre'].isnull(), :].shape[0])"
   ]
  },
  {
   "cell_type": "code",
   "execution_count": 18,
   "metadata": {},
   "outputs": [
    {
     "name": "stdout",
     "output_type": "stream",
     "text": [
      "Missing values \"def_genitore\":  380\n",
      "Tranquillo\n",
      "Missing values \"def_genitore\":  0\n"
     ]
    }
   ],
   "source": [
    "print('Missing values \"def_genitore\": ', dropout_final.loc[dropout_final['def_genitore'].isnull(), :].shape[0])\n",
    "dropout_final.groupby('disponibilita_accompagnamento_genitori')['def_genitore'].value_counts()\n",
    "sost = \"Tranquillo\"\n",
    "print(sost)\n",
    "dropout_final['def_genitore'].fillna(sost, inplace=True)\n",
    "print('Missing values \"def_genitore\": ', dropout_final.loc[dropout_final['def_genitore'].isnull(), :].shape[0])"
   ]
  },
  {
   "cell_type": "code",
   "execution_count": 19,
   "metadata": {},
   "outputs": [
    {
     "name": "stdout",
     "output_type": "stream",
     "text": [
      "Missing values \"sport_piu_significativo\":  36\n",
      "Missing values \"sport_piu_significativo\":  0\n"
     ]
    }
   ],
   "source": [
    "print('Missing values \"sport_piu_significativo\": ', dropout_final.loc[dropout_final['sport_piu_significativo'].isnull(), :].shape[0])\n",
    "dropout_final.groupby('sesso')['sport_piu_significativo'].value_counts()\n",
    "rep_nan = {\"Femmina\":\"Pallavolo\", \"Maschio\":\"Calcio\"}\n",
    "dropout_final.loc[dropout_final['sport_piu_significativo'].isnull(), 'sport_piu_significativo'] = dropout_final[dropout_final['sport_piu_significativo'].isnull()]['sesso'].replace(rep_nan)\n",
    "print('Missing values \"sport_piu_significativo\": ', dropout_final.loc[dropout_final['sport_piu_significativo'].isnull(), :].shape[0])"
   ]
  },
  {
   "cell_type": "code",
   "execution_count": 20,
   "metadata": {},
   "outputs": [
    {
     "name": "stdout",
     "output_type": "stream",
     "text": [
      "Missing values \"tipo_sport_significativo\":  239\n",
      "Missing values \"tipo_sport_significativo\":  0\n"
     ]
    }
   ],
   "source": [
    "print('Missing values \"tipo_sport_significativo\": ', dropout_final.loc[dropout_final['tipo_sport_significativo'].isnull(), :].shape[0])\n",
    "dropout_final.groupby('sesso')['tipo_sport_significativo'].value_counts()\n",
    "rep_nan = {\"Femmina\":\"individuale\", \"Maschio\":\"squadra\"}\n",
    "dropout_final.loc[dropout_final['tipo_sport_significativo'].isnull(), 'tipo_sport_significativo'] = dropout_final[dropout_final['tipo_sport_significativo'].isnull()]['sesso'].replace(rep_nan)\n",
    "print('Missing values \"tipo_sport_significativo\": ', dropout_final.loc[dropout_final['tipo_sport_significativo'].isnull(), :].shape[0])"
   ]
  },
  {
   "cell_type": "code",
   "execution_count": 21,
   "metadata": {},
   "outputs": [
    {
     "name": "stdout",
     "output_type": "stream",
     "text": [
      "Missing values \"numero_fratelli_stesso_sport\":  380\n",
      "0.0\n",
      "Missing values \"numero_fratelli_stesso_sport\":  0\n"
     ]
    }
   ],
   "source": [
    "print('Missing values \"numero_fratelli_stesso_sport\": ', dropout_final.loc[dropout_final['numero_fratelli_stesso_sport'].isnull(), :].shape[0])\n",
    "sost = 0.0\n",
    "print(sost)\n",
    "dropout_final['numero_fratelli_stesso_sport'].fillna(sost, inplace=True)\n",
    "print('Missing values \"numero_fratelli_stesso_sport\": ', dropout_final.loc[dropout_final['numero_fratelli_stesso_sport'].isnull(), :].shape[0])"
   ]
  },
  {
   "cell_type": "code",
   "execution_count": 22,
   "metadata": {},
   "outputs": [
    {
     "name": "stdout",
     "output_type": "stream",
     "text": [
      "Missing values \"influenza_scelta_sport\":  362\n",
      "Nessuno\n",
      "Missing values \"influenza_scelta_sport\":  0\n"
     ]
    }
   ],
   "source": [
    "print('Missing values \"influenza_scelta_sport\": ', dropout_final.loc[dropout_final['influenza_scelta_sport'].isnull(), :].shape[0])\n",
    "sost = \"Nessuno\"\n",
    "print(sost)\n",
    "dropout_final['influenza_scelta_sport'].fillna(sost, inplace=True)\n",
    "print('Missing values \"influenza_scelta_sport\": ', dropout_final.loc[dropout_final['influenza_scelta_sport'].isnull(), :].shape[0])"
   ]
  },
  {
   "cell_type": "code",
   "execution_count": 23,
   "metadata": {},
   "outputs": [
    {
     "name": "stdout",
     "output_type": "stream",
     "text": [
      "Missing values \"disponibilita_accompagnamento_genitori\":  376\n",
      "No\n",
      "Missing values \"disponibilita_accompagnamento_genitori\":  0\n"
     ]
    }
   ],
   "source": [
    "print('Missing values \"disponibilita_accompagnamento_genitori\": ', dropout_final.loc[dropout_final['disponibilita_accompagnamento_genitori'].isnull(), :].shape[0])\n",
    "sost = \"No\"\n",
    "print(sost)\n",
    "dropout_final['disponibilita_accompagnamento_genitori'].fillna(sost, inplace=True)\n",
    "print('Missing values \"disponibilita_accompagnamento_genitori\": ', dropout_final.loc[dropout_final['disponibilita_accompagnamento_genitori'].isnull(), :].shape[0])"
   ]
  },
  {
   "cell_type": "code",
   "execution_count": 24,
   "metadata": {},
   "outputs": [
    {
     "name": "stdout",
     "output_type": "stream",
     "text": [
      "Missing values \"obbligo_genitori\":  383\n",
      "No\n",
      "Missing values \"obbligo_genitori\":  0\n"
     ]
    }
   ],
   "source": [
    "print('Missing values \"obbligo_genitori\": ', dropout_final.loc[dropout_final['obbligo_genitori'].isnull(), :].shape[0])\n",
    "sost = \"No\"\n",
    "print(sost)\n",
    "dropout_final['obbligo_genitori'].fillna(sost, inplace=True)\n",
    "print('Missing values \"obbligo_genitori\": ', dropout_final.loc[dropout_final['obbligo_genitori'].isnull(), :].shape[0])"
   ]
  },
  {
   "cell_type": "code",
   "execution_count": 25,
   "metadata": {},
   "outputs": [
    {
     "name": "stdout",
     "output_type": "stream",
     "text": [
      "Missing values \"personalita_estroversa\":  427\n",
      "{1.1: 4.0, 1.2: 4.0, 2.1: 4.0, 2.2: 4.0, 3: 4.0}\n",
      "Missing values \"personalita_estroversa\":  0\n"
     ]
    }
   ],
   "source": [
    "print('Missing values \"personalita_estroversa\": ', dropout_final.loc[dropout_final['personalita_estroversa'].isnull(), :].shape[0])\n",
    "dropout_final.groupby('caso')['personalita_estroversa'].mean()\n",
    "rep_nan = {1.1:4.0, 1.2:4.0, 2.1:4.0, 2.2:4.0, 3:4.0}\n",
    "print(rep_nan)\n",
    "dropout_final.loc[dropout_final['personalita_estroversa'].isnull(), 'personalita_estroversa'] = dropout_final[dropout_final['personalita_estroversa'].isnull()]['caso'].replace(rep_nan)\n",
    "print('Missing values \"personalita_estroversa\": ', dropout_final.loc[dropout_final['personalita_estroversa'].isnull(), :].shape[0])"
   ]
  },
  {
   "cell_type": "code",
   "execution_count": 26,
   "metadata": {},
   "outputs": [
    {
     "name": "stdout",
     "output_type": "stream",
     "text": [
      "Missing values \"personalita_polemica\":  427\n",
      "{1.1: 3.0, 1.2: 4.0, 2.1: 4.0, 2.2: 3.0, 3: 3.0}\n",
      "Missing values \"personalita_polemica\":  0\n"
     ]
    }
   ],
   "source": [
    "print('Missing values \"personalita_polemica\": ', dropout_final.loc[dropout_final['personalita_polemica'].isnull(), :].shape[0])\n",
    "dropout_final.groupby('caso')['personalita_polemica'].mean()\n",
    "rep_nan = {1.1:3.0, 1.2:4.0, 2.1:4.0, 2.2:3.0, 3:3.0}\n",
    "print(rep_nan)\n",
    "dropout_final.loc[dropout_final['personalita_polemica'].isnull(), 'personalita_polemica'] = dropout_final[dropout_final['personalita_polemica'].isnull()]['caso'].replace(rep_nan)\n",
    "print('Missing values \"personalita_polemica\": ', dropout_final.loc[dropout_final['personalita_polemica'].isnull(), :].shape[0])"
   ]
  },
  {
   "cell_type": "code",
   "execution_count": 27,
   "metadata": {},
   "outputs": [
    {
     "name": "stdout",
     "output_type": "stream",
     "text": [
      "Missing values \"personalita_affidabile\":  427\n",
      "{1.1: 5.0, 1.2: 5.0, 2.1: 5.0, 2.2: 6.0, 3: 5.0}\n",
      "Missing values \"personalita_affidabile\":  0\n"
     ]
    }
   ],
   "source": [
    "print('Missing values \"personalita_affidabile\": ', dropout_final.loc[dropout_final['personalita_affidabile'].isnull(), :].shape[0])\n",
    "dropout_final.groupby('caso')['personalita_affidabile'].mean()\n",
    "rep_nan = {1.1:5.0, 1.2:5.0, 2.1:5.0, 2.2:6.0, 3:5.0}\n",
    "print(rep_nan)\n",
    "dropout_final.loc[dropout_final['personalita_affidabile'].isnull(), 'personalita_affidabile'] = dropout_final[dropout_final['personalita_affidabile'].isnull()]['caso'].replace(rep_nan)\n",
    "print('Missing values \"personalita_affidabile\": ', dropout_final.loc[dropout_final['personalita_affidabile'].isnull(), :].shape[0])"
   ]
  },
  {
   "cell_type": "code",
   "execution_count": 28,
   "metadata": {},
   "outputs": [
    {
     "name": "stdout",
     "output_type": "stream",
     "text": [
      "Missing values \"personalita_ansiosa\":  427\n",
      "{1.1: 4.0, 1.2: 4.0, 2.1: 4.0, 2.2: 4.0, 3: 4.0}\n",
      "Missing values \"personalita_ansiosa\":  0\n"
     ]
    }
   ],
   "source": [
    "print('Missing values \"personalita_ansiosa\": ', dropout_final.loc[dropout_final['personalita_ansiosa'].isnull(), :].shape[0])\n",
    "dropout_final.groupby('caso')['personalita_ansiosa'].mean()\n",
    "rep_nan = {1.1:4.0, 1.2:4.0, 2.1:4.0, 2.2:4.0, 3:4.0}\n",
    "print(rep_nan)\n",
    "dropout_final.loc[dropout_final['personalita_ansiosa'].isnull(), 'personalita_ansiosa'] = dropout_final[dropout_final['personalita_ansiosa'].isnull()]['caso'].replace(rep_nan)\n",
    "print('Missing values \"personalita_ansiosa\": ', dropout_final.loc[dropout_final['personalita_ansiosa'].isnull(), :].shape[0])"
   ]
  },
  {
   "cell_type": "code",
   "execution_count": 29,
   "metadata": {},
   "outputs": [
    {
     "name": "stdout",
     "output_type": "stream",
     "text": [
      "Missing values \"personalita_aperta\":  427\n",
      "{1.1: 5.0, 1.2: 5.0, 2.1: 5.0, 2.2: 6.0, 3: 5.0}\n",
      "Missing values \"personalita_aperta\":  0\n"
     ]
    }
   ],
   "source": [
    "print('Missing values \"personalita_aperta\": ', dropout_final.loc[dropout_final['personalita_aperta'].isnull(), :].shape[0])\n",
    "dropout_final.groupby('caso')['personalita_aperta'].mean()\n",
    "rep_nan = {1.1:5.0, 1.2:5.0, 2.1:5.0, 2.2:6.0, 3:5.0}\n",
    "print(rep_nan)\n",
    "dropout_final.loc[dropout_final['personalita_aperta'].isnull(), 'personalita_aperta'] = dropout_final[dropout_final['personalita_aperta'].isnull()]['caso'].replace(rep_nan)\n",
    "print('Missing values \"personalita_aperta\": ', dropout_final.loc[dropout_final['personalita_aperta'].isnull(), :].shape[0])"
   ]
  },
  {
   "cell_type": "code",
   "execution_count": 30,
   "metadata": {},
   "outputs": [
    {
     "name": "stdout",
     "output_type": "stream",
     "text": [
      "Missing values \"personalita_riservata\":  427\n",
      "{1.1: 4.0, 1.2: 4.0, 2.1: 4.0, 2.2: 4.0, 3: 4.0}\n",
      "Missing values \"personalita_riservata\":  0\n"
     ]
    }
   ],
   "source": [
    "print('Missing values \"personalita_riservata\": ', dropout_final.loc[dropout_final['personalita_riservata'].isnull(), :].shape[0])\n",
    "dropout_final.groupby('caso')['personalita_riservata'].mean()\n",
    "rep_nan = {1.1:4.0, 1.2:4.0, 2.1:4.0, 2.2:4.0, 3:4.0}\n",
    "print(rep_nan)\n",
    "dropout_final.loc[dropout_final['personalita_riservata'].isnull(), 'personalita_riservata'] = dropout_final[dropout_final['personalita_riservata'].isnull()]['caso'].replace(rep_nan)\n",
    "print('Missing values \"personalita_riservata\": ', dropout_final.loc[dropout_final['personalita_riservata'].isnull(), :].shape[0])"
   ]
  },
  {
   "cell_type": "code",
   "execution_count": 31,
   "metadata": {},
   "outputs": [
    {
     "name": "stdout",
     "output_type": "stream",
     "text": [
      "Missing values \"personalita_comprensiva\":  427\n",
      "{1.1: 5.0, 1.2: 5.0, 2.1: 5.0, 2.2: 5.0, 3: 5.0}\n",
      "Missing values \"personalita_comprensiva\":  0\n"
     ]
    }
   ],
   "source": [
    "print('Missing values \"personalita_comprensiva\": ', dropout_final.loc[dropout_final['personalita_comprensiva'].isnull(), :].shape[0])\n",
    "dropout_final.groupby('caso')['personalita_comprensiva'].mean()\n",
    "rep_nan = {1.1:5.0, 1.2:5.0, 2.1:5.0, 2.2:5.0, 3:5.0}\n",
    "print(rep_nan)\n",
    "dropout_final.loc[dropout_final['personalita_comprensiva'].isnull(), 'personalita_comprensiva'] = dropout_final[dropout_final['personalita_comprensiva'].isnull()]['caso'].replace(rep_nan)\n",
    "print('Missing values \"personalita_comprensiva\": ', dropout_final.loc[dropout_final['personalita_comprensiva'].isnull(), :].shape[0])"
   ]
  },
  {
   "cell_type": "code",
   "execution_count": 32,
   "metadata": {},
   "outputs": [
    {
     "name": "stdout",
     "output_type": "stream",
     "text": [
      "Missing values \"personalita_disorganizzata\":  427\n",
      "{1.1: 3.0, 1.2: 3.0, 2.1: 3.0, 2.2: 3.0, 3: 3.0}\n",
      "Missing values \"personalita_disorganizzata\":  0\n"
     ]
    }
   ],
   "source": [
    "print('Missing values \"personalita_disorganizzata\": ', dropout_final.loc[dropout_final['personalita_disorganizzata'].isnull(), :].shape[0])\n",
    "dropout_final.groupby('caso')['personalita_disorganizzata'].mean()\n",
    "rep_nan = {1.1:3.0, 1.2:3.0, 2.1:3.0, 2.2:3.0, 3:3.0}\n",
    "print(rep_nan)\n",
    "dropout_final.loc[dropout_final['personalita_disorganizzata'].isnull(), 'personalita_disorganizzata'] = dropout_final[dropout_final['personalita_disorganizzata'].isnull()]['caso'].replace(rep_nan)\n",
    "print('Missing values \"personalita_disorganizzata\": ', dropout_final.loc[dropout_final['personalita_disorganizzata'].isnull(), :].shape[0])"
   ]
  },
  {
   "cell_type": "code",
   "execution_count": 33,
   "metadata": {},
   "outputs": [
    {
     "name": "stdout",
     "output_type": "stream",
     "text": [
      "Missing values \"personalita_competitiva\":  427\n",
      "{1.1: 4.0, 1.2: 5.0, 2.1: 5.0, 2.2: 5.0, 3: 4.0}\n",
      "Missing values \"personalita_competitiva\":  0\n"
     ]
    }
   ],
   "source": [
    "print('Missing values \"personalita_competitiva\": ', dropout_final.loc[dropout_final['personalita_competitiva'].isnull(), :].shape[0])\n",
    "dropout_final.groupby('caso')['personalita_competitiva'].mean()\n",
    "rep_nan = {1.1:4.0, 1.2:5.0, 2.1:5.0, 2.2:5.0, 3:4.0}\n",
    "print(rep_nan)\n",
    "dropout_final.loc[dropout_final['personalita_competitiva'].isnull(), 'personalita_competitiva'] = dropout_final[dropout_final['personalita_competitiva'].isnull()]['caso'].replace(rep_nan)\n",
    "print('Missing values \"personalita_competitiva\": ', dropout_final.loc[dropout_final['personalita_competitiva'].isnull(), :].shape[0])"
   ]
  },
  {
   "cell_type": "code",
   "execution_count": 34,
   "metadata": {},
   "outputs": [
    {
     "name": "stdout",
     "output_type": "stream",
     "text": [
      "Missing values \"personalita_tranquilla\":  427\n",
      "{1.1: 4.0, 1.2: 5.0, 2.1: 4.0, 2.2: 5.0, 3: 4.0}\n",
      "Missing values \"personalita_tranquilla\":  0\n"
     ]
    }
   ],
   "source": [
    "print('Missing values \"personalita_tranquilla\": ', dropout_final.loc[dropout_final['personalita_tranquilla'].isnull(), :].shape[0])\n",
    "dropout_final.groupby('caso')['personalita_tranquilla'].mean()\n",
    "rep_nan = {1.1:4.0, 1.2:5.0, 2.1:4.0, 2.2:5.0, 3:4.0}\n",
    "print(rep_nan)\n",
    "dropout_final.loc[dropout_final['personalita_tranquilla'].isnull(), 'personalita_tranquilla'] = dropout_final[dropout_final['personalita_tranquilla'].isnull()]['caso'].replace(rep_nan)\n",
    "print('Missing values \"personalita_tranquilla\": ', dropout_final.loc[dropout_final['personalita_tranquilla'].isnull(), :].shape[0])"
   ]
  },
  {
   "cell_type": "code",
   "execution_count": 35,
   "metadata": {},
   "outputs": [
    {
     "name": "stdout",
     "output_type": "stream",
     "text": [
      "Missing values \"personalita_abitudinaria\":  427\n",
      "{1.1: 4.0, 1.2: 4.0, 2.1: 4.0, 2.2: 4.0, 3: 4.0}\n",
      "Missing values \"personalita_abitudinaria\":  0\n"
     ]
    }
   ],
   "source": [
    "print('Missing values \"personalita_abitudinaria\": ', dropout_final.loc[dropout_final['personalita_abitudinaria'].isnull(), :].shape[0])\n",
    "dropout_final.groupby('caso')['personalita_abitudinaria'].mean()\n",
    "rep_nan = {1.1:4.0, 1.2:4.0, 2.1:4.0, 2.2:4.0, 3:4.0}\n",
    "print(rep_nan)\n",
    "dropout_final.loc[dropout_final['personalita_abitudinaria'].isnull(), 'personalita_abitudinaria'] = dropout_final[dropout_final['personalita_abitudinaria'].isnull()]['caso'].replace(rep_nan)\n",
    "print('Missing values \"personalita_abitudinaria\": ', dropout_final.loc[dropout_final['personalita_abitudinaria'].isnull(), :].shape[0])"
   ]
  },
  {
   "cell_type": "code",
   "execution_count": 36,
   "metadata": {},
   "outputs": [
    {
     "name": "stdout",
     "output_type": "stream",
     "text": [
      "regione 6\n",
      "eta_pensiero_abbandono 945\n",
      "stato_animo_pre_allenamento 944\n",
      "frequenza_scuola_giornaliera 988\n",
      "integrazione_societa_sportiva 1024\n",
      "attenzioni_allenatore 1027\n",
      "incoraggiamento_allenatore 1032\n",
      "stimolo_compagni 1054\n",
      "problema_comportamento_compagni 1071\n",
      "flag_lavoro_madre 373\n",
      "flag_lavoro_padre 371\n",
      "allenamento_con_preoccupazioni 1126\n",
      "allenamento_con_stanchezza 1138\n",
      "allenamento_essendo_indaffarato 1139\n",
      "partecipazione_gare 1083\n",
      "sentimento_sconfitta 1650\n",
      "sentimento_vittoria 1648\n",
      "motivazione_principale_per_continuare 1713\n",
      "motivazione_principale_per_abbandonare 2271\n"
     ]
    }
   ],
   "source": [
    "for i in range(len(dropout_final.isnull().sum())):\n",
    "    if (dropout_final.isnull().sum()[i]>0):\n",
    "        print(dropout_final.columns[i], dropout_final.isnull().sum()[i])"
   ]
  },
  {
   "cell_type": "code",
   "execution_count": 37,
   "metadata": {},
   "outputs": [
    {
     "data": {
      "text/plain": [
       "(2750, 187)"
      ]
     },
     "execution_count": 37,
     "metadata": {},
     "output_type": "execute_result"
    }
   ],
   "source": [
    "dropout_final.shape"
   ]
  },
  {
   "cell_type": "code",
   "execution_count": 38,
   "metadata": {},
   "outputs": [],
   "source": [
    "dropout_final.to_csv(\"02 cleaning_mv.csv\")"
   ]
  }
 ],
 "metadata": {
  "kernelspec": {
   "display_name": "Python 3",
   "language": "python",
   "name": "python3"
  },
  "language_info": {
   "codemirror_mode": {
    "name": "ipython",
    "version": 3
   },
   "file_extension": ".py",
   "mimetype": "text/x-python",
   "name": "python",
   "nbconvert_exporter": "python",
   "pygments_lexer": "ipython3",
   "version": "3.7.3"
  }
 },
 "nbformat": 4,
 "nbformat_minor": 4
}
