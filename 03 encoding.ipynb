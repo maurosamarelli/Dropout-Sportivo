{
 "cells": [
  {
   "cell_type": "code",
   "execution_count": 1,
   "metadata": {},
   "outputs": [],
   "source": [
    "import numpy as np\n",
    "import pandas as pd\n",
    "import warnings\n",
    "warnings.simplefilter(\"ignore\")"
   ]
  },
  {
   "cell_type": "code",
   "execution_count": 2,
   "metadata": {},
   "outputs": [
    {
     "data": {
      "text/plain": [
       "(2750, 188)"
      ]
     },
     "execution_count": 2,
     "metadata": {},
     "output_type": "execute_result"
    }
   ],
   "source": [
    "dropout = pd.read_csv(\"02 cleaning_mv.csv\")\n",
    "dropout.shape"
   ]
  },
  {
   "cell_type": "code",
   "execution_count": 3,
   "metadata": {},
   "outputs": [
    {
     "data": {
      "text/plain": [
       "(2750, 127)"
      ]
     },
     "execution_count": 3,
     "metadata": {},
     "output_type": "execute_result"
    }
   ],
   "source": [
    "#variabili non presenti per casi 1.2 e 2.2\n",
    "dropout.drop(['eta_pensiero_abbandono', 'stato_animo_pre_allenamento', 'no_divertimento', 'no_bravura', 'troppa_competizione', \n",
    "           'infortuni', 'eccessiva_fatica', 'incomprensioni_allenatore', 'motivi_salute', 'periodo_critico_personale', \n",
    "           'troppo_impegnativo', 'fattore_disabilita', 'no_appoggio_genitori', 'no_accompagnamento_genitori', \n",
    "           'rapporto_difficile_genitori_allenatore', 'difficolta_compagni', 'nessuno_con_cui_allenarsi', 'lontananza', \n",
    "           'male_scuola', 'no_conciliare_scuola_sport', 'altri_interessi', 'difficolta_raggiungere_impianto', 'sport_costoso', \n",
    "           'no_palestra_adeguata', 'materiale_carente', 'orari_scomodi', 'assenza_sport_vicino_casa', 'all_severo', \n",
    "           'all_autorevole', 'all_amico', 'all_competente', 'all_leader', 'all_fissato', 'all_riferimento', 'all_non_in_grado', \n",
    "           'all_avvilente', 'all_irritabile', 'all_motivatore', 'all_no_preparato', 'frequenza_scuola_giornaliera', 'integrazione_societa_sportiva',\n",
    "           'attenzioni_allenatore', 'incoraggiamento_allenatore', 'stimolo_compagni', 'problema_comportamento_compagni',\n",
    "           'allenamento_con_preoccupazioni', 'allenamento_con_stanchezza', 'allenamento_essendo_indaffarato', \n",
    "           'partecipazione_gare', 'sentimento_sconfitta', 'sentimento_vittoria'], 1, inplace=True)\n",
    "\n",
    "#variabili da eliminare\n",
    "dropout.drop(['Unnamed: 0', 'caso', 'respondent_id', 'anno_nascita', 'regione',\n",
    "              'motivazione_principale_per_continuare', 'motivazione_principale_per_abbandonare',\n",
    "              'flag_lavoro_madre', 'flag_lavoro_padre', 'ore_attivita_extra'], 1, inplace=True)\n",
    "\n",
    "dropout.shape"
   ]
  },
  {
   "cell_type": "code",
   "execution_count": 4,
   "metadata": {},
   "outputs": [],
   "source": [
    "categoriali = ['sesso', 'scuola_superiore', 'titolo_studio_madre', 'titolo_studio_padre', 'riferimento_dopo_scuola', \n",
    "               'provenienza', 'nazionalita', 'lavoro_madre', 'impegno_lavoro_madre', 'lavoro_padre', 'impegno_lavoro_padre',\n",
    "               'influenza_scelta_sport', 'def_genitore', 'tipo_sport_significativo']"
   ]
  },
  {
   "cell_type": "code",
   "execution_count": 5,
   "metadata": {},
   "outputs": [
    {
     "data": {
      "text/plain": [
       "(2750, 128)"
      ]
     },
     "execution_count": 5,
     "metadata": {},
     "output_type": "execute_result"
    }
   ],
   "source": [
    "maschio_calcio = []\n",
    "femmina_pallavolo_nuoto = []\n",
    "\n",
    "for i in range(2750):\n",
    "    if (dropout.sesso[i]==\"Maschio\" and dropout.sport_piu_significativo[i]==\"Calcio\"):\n",
    "        maschio_calcio.append(\"Si\")\n",
    "    else:\n",
    "        maschio_calcio.append(\"No\")\n",
    "    if (dropout.sesso[i]==\"Femmina\" and (dropout.sport_piu_significativo[i]==\"Pallavolo\" or dropout.sport_piu_significativo[i]==\"Nuoto\")):\n",
    "        femmina_pallavolo_nuoto.append(\"Si\")\n",
    "    else:\n",
    "        femmina_pallavolo_nuoto.append(\"No\")\n",
    "\n",
    "dropout['maschio_calcio'] = pd.Series(maschio_calcio)\n",
    "dropout['femmina_pallavolo_nuoto'] = pd.Series(femmina_pallavolo_nuoto)\n",
    "\n",
    "dropout.drop('sport_piu_significativo', 1, inplace=True)\n",
    "dropout.shape"
   ]
  },
  {
   "cell_type": "code",
   "execution_count": 6,
   "metadata": {},
   "outputs": [
    {
     "data": {
      "text/plain": [
       "0    3\n",
       "1    3\n",
       "2    3\n",
       "3    0\n",
       "4    2\n",
       "Name: grado_divertimento_allenamento, dtype: object"
      ]
     },
     "execution_count": 6,
     "metadata": {},
     "output_type": "execute_result"
    }
   ],
   "source": [
    "for i in range(2750):\n",
    "    if (dropout.grado_divertimento_allenamento[i]==\"Per niente\"):\n",
    "        dropout.grado_divertimento_allenamento[i] = 0\n",
    "    if (dropout.grado_divertimento_allenamento[i]==\"Poco\"):\n",
    "        dropout.grado_divertimento_allenamento[i] = 1\n",
    "    if (dropout.grado_divertimento_allenamento[i]==\"Neutrale\"):\n",
    "        dropout.grado_divertimento_allenamento[i] = 2\n",
    "    if (dropout.grado_divertimento_allenamento[i]==\"Abbastanza\"):\n",
    "        dropout.grado_divertimento_allenamento[i] = 3\n",
    "    if (dropout.grado_divertimento_allenamento[i]==\"Molto\"):\n",
    "        dropout.grado_divertimento_allenamento[i] = 4\n",
    "        \n",
    "dropout.grado_divertimento_allenamento.head()"
   ]
  },
  {
   "cell_type": "code",
   "execution_count": 7,
   "metadata": {},
   "outputs": [
    {
     "data": {
      "text/plain": [
       "0    0\n",
       "1    0\n",
       "2    2\n",
       "3    3\n",
       "4    0\n",
       "Name: tempo_casa_struttura_sportiva_piedi, dtype: object"
      ]
     },
     "execution_count": 7,
     "metadata": {},
     "output_type": "execute_result"
    }
   ],
   "source": [
    "distanze = ['tempo_casa_struttura_sportiva_piedi', 'tempo_casa_struttura_sportiva_mezzi', \n",
    "            'tempo_scuola_struttura_sportiva_piedi', 'tempo_scuola_struttura_sportiva_mezzi']\n",
    "\n",
    "for var in distanze:\n",
    "    for i in range(2750):\n",
    "        if (dropout[var][i]==\"Meno di un quarto d'ora\"):\n",
    "            dropout[var][i] = 0\n",
    "        if (dropout[var][i]==\"Un quarto d'ora\"):\n",
    "            dropout[var][i] = 1\n",
    "        if (dropout[var][i]==\"Più di un quarto d'ora\"):\n",
    "            dropout[var][i] = 2\n",
    "        if (dropout[var][i]==\"Un'ora\"):\n",
    "            dropout[var][i] = 3\n",
    "        if (dropout[var][i]==\"Più di un'ora\"):\n",
    "            dropout[var][i] = 4\n",
    "\n",
    "dropout.tempo_casa_struttura_sportiva_piedi.head()"
   ]
  },
  {
   "cell_type": "code",
   "execution_count": 8,
   "metadata": {},
   "outputs": [
    {
     "data": {
      "text/plain": [
       "(2750, 128)"
      ]
     },
     "execution_count": 8,
     "metadata": {},
     "output_type": "execute_result"
    }
   ],
   "source": [
    "from sklearn.preprocessing import LabelEncoder\n",
    "\n",
    "for var in dropout.columns:\n",
    "    if var not in categoriali:\n",
    "        enc = LabelEncoder()\n",
    "        dropout[var] = enc.fit_transform(dropout[var])\n",
    "        \n",
    "dropout.shape"
   ]
  },
  {
   "cell_type": "code",
   "execution_count": 9,
   "metadata": {},
   "outputs": [
    {
     "data": {
      "text/plain": [
       "(2750, 186)"
      ]
     },
     "execution_count": 9,
     "metadata": {},
     "output_type": "execute_result"
    }
   ],
   "source": [
    "#One Hot Encoding - Custom\n",
    "for c in categoriali:\n",
    "    vals = dropout[c].unique()\n",
    "    vals.sort()\n",
    "    for val in vals:\n",
    "        column = c + \"_\" + val.lower().replace(\" \", \"_\")\n",
    "        l = []\n",
    "        for i in range(2750):\n",
    "            if (dropout[c][i]==val):\n",
    "                l.append(1)\n",
    "            else:\n",
    "                l.append(0)\n",
    "        dropout[column] = pd.Series(l)\n",
    "    dropout.drop(c, 1, inplace=True)\n",
    "    \n",
    "dropout.shape"
   ]
  },
  {
   "cell_type": "code",
   "execution_count": 10,
   "metadata": {},
   "outputs": [],
   "source": [
    "for var in dropout.columns:\n",
    "    dropout[var] = dropout[var].astype(int)"
   ]
  },
  {
   "cell_type": "code",
   "execution_count": 11,
   "metadata": {},
   "outputs": [
    {
     "data": {
      "text/html": [
       "<div>\n",
       "<style scoped>\n",
       "    .dataframe tbody tr th:only-of-type {\n",
       "        vertical-align: middle;\n",
       "    }\n",
       "\n",
       "    .dataframe tbody tr th {\n",
       "        vertical-align: top;\n",
       "    }\n",
       "\n",
       "    .dataframe thead th {\n",
       "        text-align: right;\n",
       "    }\n",
       "</style>\n",
       "<table border=\"1\" class=\"dataframe\">\n",
       "  <thead>\n",
       "    <tr style=\"text-align: right;\">\n",
       "      <th></th>\n",
       "      <th>disabilita</th>\n",
       "      <th>numero_fratelli_sorelle</th>\n",
       "      <th>numero_nonni_vicinanza_casa</th>\n",
       "      <th>cambio_residenza</th>\n",
       "      <th>presenza_campioni_sportivi_citta</th>\n",
       "      <th>arrampicata</th>\n",
       "      <th>arti_marziali</th>\n",
       "      <th>atletica</th>\n",
       "      <th>balli_da_sala</th>\n",
       "      <th>baseball</th>\n",
       "      <th>...</th>\n",
       "      <th>def_genitore_fastidioso</th>\n",
       "      <th>def_genitore_incoraggiante</th>\n",
       "      <th>def_genitore_indifferente</th>\n",
       "      <th>def_genitore_pesante</th>\n",
       "      <th>def_genitore_si_arrabbia_alle_gare</th>\n",
       "      <th>def_genitore_sostenitore_positivo</th>\n",
       "      <th>def_genitore_tranquillo</th>\n",
       "      <th>def_genitore_troppo_fissato</th>\n",
       "      <th>tipo_sport_significativo_individuale</th>\n",
       "      <th>tipo_sport_significativo_squadra</th>\n",
       "    </tr>\n",
       "  </thead>\n",
       "  <tbody>\n",
       "    <tr>\n",
       "      <th>0</th>\n",
       "      <td>0</td>\n",
       "      <td>2</td>\n",
       "      <td>1</td>\n",
       "      <td>1</td>\n",
       "      <td>0</td>\n",
       "      <td>0</td>\n",
       "      <td>0</td>\n",
       "      <td>0</td>\n",
       "      <td>0</td>\n",
       "      <td>0</td>\n",
       "      <td>...</td>\n",
       "      <td>0</td>\n",
       "      <td>0</td>\n",
       "      <td>1</td>\n",
       "      <td>0</td>\n",
       "      <td>0</td>\n",
       "      <td>0</td>\n",
       "      <td>0</td>\n",
       "      <td>0</td>\n",
       "      <td>1</td>\n",
       "      <td>0</td>\n",
       "    </tr>\n",
       "    <tr>\n",
       "      <th>1</th>\n",
       "      <td>0</td>\n",
       "      <td>1</td>\n",
       "      <td>2</td>\n",
       "      <td>0</td>\n",
       "      <td>0</td>\n",
       "      <td>0</td>\n",
       "      <td>1</td>\n",
       "      <td>1</td>\n",
       "      <td>0</td>\n",
       "      <td>0</td>\n",
       "      <td>...</td>\n",
       "      <td>0</td>\n",
       "      <td>1</td>\n",
       "      <td>0</td>\n",
       "      <td>0</td>\n",
       "      <td>0</td>\n",
       "      <td>0</td>\n",
       "      <td>0</td>\n",
       "      <td>0</td>\n",
       "      <td>1</td>\n",
       "      <td>0</td>\n",
       "    </tr>\n",
       "    <tr>\n",
       "      <th>2</th>\n",
       "      <td>0</td>\n",
       "      <td>1</td>\n",
       "      <td>0</td>\n",
       "      <td>0</td>\n",
       "      <td>0</td>\n",
       "      <td>0</td>\n",
       "      <td>0</td>\n",
       "      <td>1</td>\n",
       "      <td>0</td>\n",
       "      <td>0</td>\n",
       "      <td>...</td>\n",
       "      <td>0</td>\n",
       "      <td>0</td>\n",
       "      <td>0</td>\n",
       "      <td>0</td>\n",
       "      <td>0</td>\n",
       "      <td>0</td>\n",
       "      <td>1</td>\n",
       "      <td>0</td>\n",
       "      <td>0</td>\n",
       "      <td>1</td>\n",
       "    </tr>\n",
       "    <tr>\n",
       "      <th>3</th>\n",
       "      <td>0</td>\n",
       "      <td>1</td>\n",
       "      <td>4</td>\n",
       "      <td>1</td>\n",
       "      <td>1</td>\n",
       "      <td>0</td>\n",
       "      <td>0</td>\n",
       "      <td>0</td>\n",
       "      <td>0</td>\n",
       "      <td>0</td>\n",
       "      <td>...</td>\n",
       "      <td>0</td>\n",
       "      <td>0</td>\n",
       "      <td>0</td>\n",
       "      <td>0</td>\n",
       "      <td>1</td>\n",
       "      <td>0</td>\n",
       "      <td>0</td>\n",
       "      <td>0</td>\n",
       "      <td>0</td>\n",
       "      <td>1</td>\n",
       "    </tr>\n",
       "    <tr>\n",
       "      <th>4</th>\n",
       "      <td>0</td>\n",
       "      <td>1</td>\n",
       "      <td>4</td>\n",
       "      <td>0</td>\n",
       "      <td>0</td>\n",
       "      <td>0</td>\n",
       "      <td>0</td>\n",
       "      <td>0</td>\n",
       "      <td>0</td>\n",
       "      <td>0</td>\n",
       "      <td>...</td>\n",
       "      <td>0</td>\n",
       "      <td>0</td>\n",
       "      <td>0</td>\n",
       "      <td>0</td>\n",
       "      <td>0</td>\n",
       "      <td>0</td>\n",
       "      <td>1</td>\n",
       "      <td>0</td>\n",
       "      <td>0</td>\n",
       "      <td>1</td>\n",
       "    </tr>\n",
       "  </tbody>\n",
       "</table>\n",
       "<p>5 rows × 186 columns</p>\n",
       "</div>"
      ],
      "text/plain": [
       "   disabilita  numero_fratelli_sorelle  numero_nonni_vicinanza_casa  \\\n",
       "0           0                        2                            1   \n",
       "1           0                        1                            2   \n",
       "2           0                        1                            0   \n",
       "3           0                        1                            4   \n",
       "4           0                        1                            4   \n",
       "\n",
       "   cambio_residenza  presenza_campioni_sportivi_citta  arrampicata  \\\n",
       "0                 1                                 0            0   \n",
       "1                 0                                 0            0   \n",
       "2                 0                                 0            0   \n",
       "3                 1                                 1            0   \n",
       "4                 0                                 0            0   \n",
       "\n",
       "   arti_marziali  atletica  balli_da_sala  baseball  ...  \\\n",
       "0              0         0              0         0  ...   \n",
       "1              1         1              0         0  ...   \n",
       "2              0         1              0         0  ...   \n",
       "3              0         0              0         0  ...   \n",
       "4              0         0              0         0  ...   \n",
       "\n",
       "   def_genitore_fastidioso  def_genitore_incoraggiante  \\\n",
       "0                        0                           0   \n",
       "1                        0                           1   \n",
       "2                        0                           0   \n",
       "3                        0                           0   \n",
       "4                        0                           0   \n",
       "\n",
       "   def_genitore_indifferente  def_genitore_pesante  \\\n",
       "0                          1                     0   \n",
       "1                          0                     0   \n",
       "2                          0                     0   \n",
       "3                          0                     0   \n",
       "4                          0                     0   \n",
       "\n",
       "   def_genitore_si_arrabbia_alle_gare  def_genitore_sostenitore_positivo  \\\n",
       "0                                   0                                  0   \n",
       "1                                   0                                  0   \n",
       "2                                   0                                  0   \n",
       "3                                   1                                  0   \n",
       "4                                   0                                  0   \n",
       "\n",
       "   def_genitore_tranquillo  def_genitore_troppo_fissato  \\\n",
       "0                        0                            0   \n",
       "1                        0                            0   \n",
       "2                        1                            0   \n",
       "3                        0                            0   \n",
       "4                        1                            0   \n",
       "\n",
       "   tipo_sport_significativo_individuale  tipo_sport_significativo_squadra  \n",
       "0                                     1                                 0  \n",
       "1                                     1                                 0  \n",
       "2                                     0                                 1  \n",
       "3                                     0                                 1  \n",
       "4                                     0                                 1  \n",
       "\n",
       "[5 rows x 186 columns]"
      ]
     },
     "execution_count": 11,
     "metadata": {},
     "output_type": "execute_result"
    }
   ],
   "source": [
    "dropout.head()"
   ]
  },
  {
   "cell_type": "code",
   "execution_count": 12,
   "metadata": {},
   "outputs": [],
   "source": [
    "dropout.to_csv(\"03 encoding.csv\")"
   ]
  }
 ],
 "metadata": {
  "kernelspec": {
   "display_name": "Python 3",
   "language": "python",
   "name": "python3"
  },
  "language_info": {
   "codemirror_mode": {
    "name": "ipython",
    "version": 3
   },
   "file_extension": ".py",
   "mimetype": "text/x-python",
   "name": "python",
   "nbconvert_exporter": "python",
   "pygments_lexer": "ipython3",
   "version": "3.7.3"
  }
 },
 "nbformat": 4,
 "nbformat_minor": 4
}
